{
 "cells": [
  {
   "cell_type": "markdown",
   "id": "0270faa9",
   "metadata": {},
   "source": [
    "## Task 1\n",
    "Calculate for each name in yob2000.txt its percentage of total births. Store this percentage as an additional column."
   ]
  },
  {
   "cell_type": "code",
   "execution_count": 77,
   "id": "f1b21f9e",
   "metadata": {},
   "outputs": [],
   "source": [
    "import pandas as pd"
   ]
  },
  {
   "cell_type": "code",
   "execution_count": 78,
   "id": "83ea7544",
   "metadata": {},
   "outputs": [
    {
     "data": {
      "text/html": [
       "<div>\n",
       "<style scoped>\n",
       "    .dataframe tbody tr th:only-of-type {\n",
       "        vertical-align: middle;\n",
       "    }\n",
       "\n",
       "    .dataframe tbody tr th {\n",
       "        vertical-align: top;\n",
       "    }\n",
       "\n",
       "    .dataframe thead th {\n",
       "        text-align: right;\n",
       "    }\n",
       "</style>\n",
       "<table border=\"1\" class=\"dataframe\">\n",
       "  <thead>\n",
       "    <tr style=\"text-align: right;\">\n",
       "      <th></th>\n",
       "      <th>name</th>\n",
       "      <th>gender</th>\n",
       "      <th>count</th>\n",
       "      <th>percentage</th>\n",
       "    </tr>\n",
       "  </thead>\n",
       "  <tbody>\n",
       "    <tr>\n",
       "      <th>0</th>\n",
       "      <td>Emily</td>\n",
       "      <td>F</td>\n",
       "      <td>25957</td>\n",
       "      <td>0.686806</td>\n",
       "    </tr>\n",
       "    <tr>\n",
       "      <th>1</th>\n",
       "      <td>Hannah</td>\n",
       "      <td>F</td>\n",
       "      <td>23085</td>\n",
       "      <td>0.610814</td>\n",
       "    </tr>\n",
       "    <tr>\n",
       "      <th>2</th>\n",
       "      <td>Madison</td>\n",
       "      <td>F</td>\n",
       "      <td>19968</td>\n",
       "      <td>0.528341</td>\n",
       "    </tr>\n",
       "    <tr>\n",
       "      <th>3</th>\n",
       "      <td>Ashley</td>\n",
       "      <td>F</td>\n",
       "      <td>17997</td>\n",
       "      <td>0.476189</td>\n",
       "    </tr>\n",
       "    <tr>\n",
       "      <th>4</th>\n",
       "      <td>Sarah</td>\n",
       "      <td>F</td>\n",
       "      <td>17708</td>\n",
       "      <td>0.468542</td>\n",
       "    </tr>\n",
       "    <tr>\n",
       "      <th>...</th>\n",
       "      <td>...</td>\n",
       "      <td>...</td>\n",
       "      <td>...</td>\n",
       "      <td>...</td>\n",
       "    </tr>\n",
       "    <tr>\n",
       "      <th>29771</th>\n",
       "      <td>Zeph</td>\n",
       "      <td>M</td>\n",
       "      <td>5</td>\n",
       "      <td>0.000132</td>\n",
       "    </tr>\n",
       "    <tr>\n",
       "      <th>29772</th>\n",
       "      <td>Zeven</td>\n",
       "      <td>M</td>\n",
       "      <td>5</td>\n",
       "      <td>0.000132</td>\n",
       "    </tr>\n",
       "    <tr>\n",
       "      <th>29773</th>\n",
       "      <td>Ziggy</td>\n",
       "      <td>M</td>\n",
       "      <td>5</td>\n",
       "      <td>0.000132</td>\n",
       "    </tr>\n",
       "    <tr>\n",
       "      <th>29774</th>\n",
       "      <td>Zo</td>\n",
       "      <td>M</td>\n",
       "      <td>5</td>\n",
       "      <td>0.000132</td>\n",
       "    </tr>\n",
       "    <tr>\n",
       "      <th>29775</th>\n",
       "      <td>Zyier</td>\n",
       "      <td>M</td>\n",
       "      <td>5</td>\n",
       "      <td>0.000132</td>\n",
       "    </tr>\n",
       "  </tbody>\n",
       "</table>\n",
       "<p>29776 rows × 4 columns</p>\n",
       "</div>"
      ],
      "text/plain": [
       "          name gender  count  percentage\n",
       "0        Emily      F  25957    0.686806\n",
       "1       Hannah      F  23085    0.610814\n",
       "2      Madison      F  19968    0.528341\n",
       "3       Ashley      F  17997    0.476189\n",
       "4        Sarah      F  17708    0.468542\n",
       "...        ...    ...    ...         ...\n",
       "29771     Zeph      M      5    0.000132\n",
       "29772    Zeven      M      5    0.000132\n",
       "29773    Ziggy      M      5    0.000132\n",
       "29774       Zo      M      5    0.000132\n",
       "29775    Zyier      M      5    0.000132\n",
       "\n",
       "[29776 rows x 4 columns]"
      ]
     },
     "execution_count": 78,
     "metadata": {},
     "output_type": "execute_result"
    }
   ],
   "source": [
    "df = pd.read_csv('names/yob2000.txt' , names=['name', 'gender', 'count'])\n",
    "\n",
    "#total births\n",
    "total = df['count'].sum()\n",
    "\n",
    "df['percentage'] = df['count'] / total * 100\n",
    "df"
   ]
  },
  {
   "cell_type": "markdown",
   "id": "837415a2",
   "metadata": {},
   "source": [
    "## Task 2\n",
    "Read all files yob1880.txt, yob1881.txt ... yob2021.txt. Add an extra column for the year. Concatenate them into a single data structure."
   ]
  },
  {
   "cell_type": "code",
   "execution_count": 79,
   "id": "6d0fb953",
   "metadata": {},
   "outputs": [
    {
     "data": {
      "text/html": [
       "<div>\n",
       "<style scoped>\n",
       "    .dataframe tbody tr th:only-of-type {\n",
       "        vertical-align: middle;\n",
       "    }\n",
       "\n",
       "    .dataframe tbody tr th {\n",
       "        vertical-align: top;\n",
       "    }\n",
       "\n",
       "    .dataframe thead th {\n",
       "        text-align: right;\n",
       "    }\n",
       "</style>\n",
       "<table border=\"1\" class=\"dataframe\">\n",
       "  <thead>\n",
       "    <tr style=\"text-align: right;\">\n",
       "      <th></th>\n",
       "      <th>name</th>\n",
       "      <th>gender</th>\n",
       "      <th>count</th>\n",
       "      <th>year</th>\n",
       "    </tr>\n",
       "  </thead>\n",
       "  <tbody>\n",
       "    <tr>\n",
       "      <th>0</th>\n",
       "      <td>Mary</td>\n",
       "      <td>F</td>\n",
       "      <td>7065</td>\n",
       "      <td>1880</td>\n",
       "    </tr>\n",
       "    <tr>\n",
       "      <th>1</th>\n",
       "      <td>Anna</td>\n",
       "      <td>F</td>\n",
       "      <td>2604</td>\n",
       "      <td>1880</td>\n",
       "    </tr>\n",
       "    <tr>\n",
       "      <th>2</th>\n",
       "      <td>Emma</td>\n",
       "      <td>F</td>\n",
       "      <td>2003</td>\n",
       "      <td>1880</td>\n",
       "    </tr>\n",
       "    <tr>\n",
       "      <th>3</th>\n",
       "      <td>Elizabeth</td>\n",
       "      <td>F</td>\n",
       "      <td>1939</td>\n",
       "      <td>1880</td>\n",
       "    </tr>\n",
       "    <tr>\n",
       "      <th>4</th>\n",
       "      <td>Minnie</td>\n",
       "      <td>F</td>\n",
       "      <td>1746</td>\n",
       "      <td>1880</td>\n",
       "    </tr>\n",
       "    <tr>\n",
       "      <th>...</th>\n",
       "      <td>...</td>\n",
       "      <td>...</td>\n",
       "      <td>...</td>\n",
       "      <td>...</td>\n",
       "    </tr>\n",
       "    <tr>\n",
       "      <th>31532</th>\n",
       "      <td>Zyeire</td>\n",
       "      <td>M</td>\n",
       "      <td>5</td>\n",
       "      <td>2021</td>\n",
       "    </tr>\n",
       "    <tr>\n",
       "      <th>31533</th>\n",
       "      <td>Zyel</td>\n",
       "      <td>M</td>\n",
       "      <td>5</td>\n",
       "      <td>2021</td>\n",
       "    </tr>\n",
       "    <tr>\n",
       "      <th>31534</th>\n",
       "      <td>Zyian</td>\n",
       "      <td>M</td>\n",
       "      <td>5</td>\n",
       "      <td>2021</td>\n",
       "    </tr>\n",
       "    <tr>\n",
       "      <th>31535</th>\n",
       "      <td>Zylar</td>\n",
       "      <td>M</td>\n",
       "      <td>5</td>\n",
       "      <td>2021</td>\n",
       "    </tr>\n",
       "    <tr>\n",
       "      <th>31536</th>\n",
       "      <td>Zyn</td>\n",
       "      <td>M</td>\n",
       "      <td>5</td>\n",
       "      <td>2021</td>\n",
       "    </tr>\n",
       "  </tbody>\n",
       "</table>\n",
       "<p>2052781 rows × 4 columns</p>\n",
       "</div>"
      ],
      "text/plain": [
       "            name gender  count  year\n",
       "0           Mary      F   7065  1880\n",
       "1           Anna      F   2604  1880\n",
       "2           Emma      F   2003  1880\n",
       "3      Elizabeth      F   1939  1880\n",
       "4         Minnie      F   1746  1880\n",
       "...          ...    ...    ...   ...\n",
       "31532     Zyeire      M      5  2021\n",
       "31533       Zyel      M      5  2021\n",
       "31534      Zyian      M      5  2021\n",
       "31535      Zylar      M      5  2021\n",
       "31536        Zyn      M      5  2021\n",
       "\n",
       "[2052781 rows x 4 columns]"
      ]
     },
     "execution_count": 79,
     "metadata": {},
     "output_type": "execute_result"
    }
   ],
   "source": [
    "import os\n",
    "import glob\n",
    "path = os.getcwd()\n",
    "csv_files = glob.glob(os.path.join('names', \"*.txt\"))\n",
    "files = []\n",
    "for f in csv_files:\n",
    "    # read the csv file\n",
    "    df = pd.read_csv(f , names=['name', 'gender', 'count'])\n",
    "    df['year'] = int(f[9:13])\n",
    "    files.append(df)\n",
    "\n",
    "concated = pd.concat(files)\n",
    "\n",
    "concated"
   ]
  },
  {
   "cell_type": "markdown",
   "id": "80279c61",
   "metadata": {},
   "source": [
    "## Task 3\n",
    "Calculate the total number of births for each year. Visualize the timeline as a line plot."
   ]
  },
  {
   "cell_type": "code",
   "execution_count": 80,
   "id": "25876368",
   "metadata": {},
   "outputs": [
    {
     "data": {
      "image/png": "[encoded data removed]",
      "text/plain": [
       "<Figure size 432x288 with 1 Axes>"
      ]
     },
     "metadata": {
      "needs_background": "light"
     },
     "output_type": "display_data"
    }
   ],
   "source": [
    "import matplotlib.pyplot as plt\n",
    "%matplotlib inline\n",
    "\n",
    "total_births = concated.groupby(\"year\")[\"count\"].sum()\n",
    "\n",
    "# line plot of timeline\n",
    "total_births.plot(xlabel = \"Year\",\n",
    "ylabel = \"Count (million)\",\n",
    "kind = \"line\")\n",
    "plt.title('Total number of births (in million) each year')\n",
    "plt.show()"
   ]
  },
  {
   "cell_type": "markdown",
   "id": "0c42573c",
   "metadata": {},
   "source": [
    "## Task 4\n",
    "Now, create a timeline for your own name. First check if your name occurs at all. If yes, create a table with the columns year and number.\n",
    "\n",
    "You may want to sum up the binary genders or choose one. With few exceptions, the influence on the result is tiny.\n",
    "\n",
    "If your name is not very frequent, there might be missing data for some years. Insert missing data with a 0.\n",
    "\n",
    "Draw a line plot and label the axes."
   ]
  },
  {
   "cell_type": "code",
   "execution_count": 108,
   "id": "06118fde",
   "metadata": {},
   "outputs": [
    {
     "name": "stdout",
     "output_type": "stream",
     "text": [
      "       name gender  count  year\n",
      "109    Sara      F    165  1880\n",
      "116    Sara      F    147  1881\n",
      "114    Sara      F    180  1882\n",
      "117    Sara      F    183  1883\n",
      "126    Sara      F    197  1884\n",
      "...     ...    ...    ...   ...\n",
      "169    Sara      F   1711  2018\n",
      "162    Sara      F   1740  2019\n",
      "182    Sara      F   1571  2020\n",
      "195    Sara      F   1507  2021\n",
      "29346  Sara      M      6  2021\n",
      "\n",
      "[227 rows x 4 columns]\n",
      "year\n",
      "1880     165\n",
      "1881     147\n",
      "1882     180\n",
      "1883     183\n",
      "1884     197\n",
      "        ... \n",
      "2017    1885\n",
      "2018    1711\n",
      "2019    1740\n",
      "2020    1571\n",
      "2021    1513\n",
      "Name: count, Length: 142, dtype: int64\n"
     ]
    },
    {
     "data": {
      "image/png": "[encoded data removed]",
      "text/plain": [
       "<Figure size 432x288 with 1 Axes>"
      ]
     },
     "metadata": {
      "needs_background": "light"
     },
     "output_type": "display_data"
    }
   ],
   "source": [
    "# filling missing data with 0\n",
    "concated[\"count\"].fillna(0, inplace=True)\n",
    "\n",
    "# checking if name is there & creating table\n",
    "sara = concated[concated[\"name\"] == \"Sara\"]\n",
    "print(sara)\n",
    "\n",
    "# timeline of name \"Sara\"\n",
    "sara_total = sara.groupby(\"year\")[\"count\"].sum()\n",
    "print(sara_total)\n",
    "\n",
    "# line plot of timeline\n",
    "sara_total.plot(xlabel = \"Year\",\n",
    "ylabel = \"Count\",\n",
    "kind = \"line\")\n",
    "plt.title('Total number of births with the name \"Sara\" each year')\n",
    "plt.show()"
   ]
  },
  {
   "cell_type": "markdown",
   "id": "b337c446",
   "metadata": {},
   "source": [
    "## Task 5\n",
    "Investigate the popularity of the names of some US celebrities over the last 130 years. Plot a time line with 2-4 names."
   ]
  },
  {
   "cell_type": "code",
   "execution_count": 132,
   "id": "5025ef13",
   "metadata": {},
   "outputs": [
    {
     "data": {
      "image/png": "[encoded data removed]",
      "text/plain": [
       "<Figure size 432x288 with 1 Axes>"
      ]
     },
     "metadata": {
      "needs_background": "light"
     },
     "output_type": "display_data"
    }
   ],
   "source": [
    "# # checking if name is there & creating table for each\n",
    "madonna = concated[concated[\"name\"] == \"Madonna\"]\n",
    "lance = concated[concated[\"name\"] == \"Lance\"]\n",
    "barack = concated[concated[\"name\"] == \"Barack\"]\n",
    "katrina = concated[concated[\"name\"] == \"Katrina\"]\n",
    "\n",
    "# timeline of celebrity names\n",
    "madonna = madonna.groupby(\"year\")[\"count\"].sum()\n",
    "lance = lance.groupby(\"year\")[\"count\"].sum()\n",
    "barack = barack.groupby(\"year\")[\"count\"].sum()\n",
    "katrina = katrina.groupby(\"year\")[\"count\"].sum()\n",
    "\n",
    "# line plot of timeline\n",
    "ax = madonna.plot(label = \"madonna\", xlabel = \"Year\", ylabel = \"Count\", kind = \"line\")\n",
    "lance.plot(label = \"lance\", ax=ax)\n",
    "barack.plot(label = \"barack\", ax=ax)\n",
    "katrina.plot(label = \"katrina\" , ax=ax)\n",
    "\n",
    "plt.legend()\n",
    "plt.title('Total number of births with celebrity names each year')\n",
    "plt.show()"
   ]
  },
  {
   "cell_type": "markdown",
   "id": "b302cb6d",
   "metadata": {},
   "source": [
    "## Task 6\n",
    "Finally, we will normalize the data. Repeat Task 4 or 5, but divide the count of a given name by the total number of births of that year.\n",
    "\n",
    "How does the result change and why is this important?"
   ]
  },
  {
   "cell_type": "code",
   "execution_count": 138,
   "id": "c25cea66",
   "metadata": {},
   "outputs": [
    {
     "name": "stdout",
     "output_type": "stream",
     "text": [
      "year\n",
      "1880    0.000819\n",
      "1881    0.000763\n",
      "1882    0.000813\n",
      "1883    0.000844\n",
      "1884    0.000809\n",
      "          ...   \n",
      "2017    0.000528\n",
      "2018    0.000488\n",
      "2019    0.000503\n",
      "2020    0.000472\n",
      "2021    0.000450\n",
      "Name: count, Length: 142, dtype: float64\n"
     ]
    },
    {
     "data": {
      "image/png": "[encoded data removed]",
      "text/plain": [
       "<Figure size 432x288 with 1 Axes>"
      ]
     },
     "metadata": {
      "needs_background": "light"
     },
     "output_type": "display_data"
    }
   ],
   "source": [
    "# timeline of name \"Sara divided by total number of births\"\n",
    "sara_total2 = sara.groupby(\"year\")[\"count\"].sum()/total_births\n",
    "print(sara_total2)\n",
    "\n",
    "# line plot of timeline\n",
    "sara_total2.plot(xlabel = \"Year\",\n",
    "ylabel = \"Count\",\n",
    "kind = \"line\")\n",
    "plt.title('Total number of births with the name \"Sara\" each year divided by total number of births each year')\n",
    "plt.show()"
   ]
  },
  {
   "cell_type": "markdown",
   "id": "146ace3d",
   "metadata": {},
   "source": [
    "The graph has a similar shape/looks similar but scaled down."
   ]
  }
 ],
 "metadata": {
  "kernelspec": {
   "display_name": "Python 3 (ipykernel)",
   "language": "python",
   "name": "python3"
  },
  "language_info": {
   "codemirror_mode": {
    "name": "ipython",
    "version": 3
   },
   "file_extension": ".py",
   "mimetype": "text/x-python",
   "name": "python",
   "nbconvert_exporter": "python",
   "pygments_lexer": "ipython3",
   "version": "3.9.7"
  }
 },
 "nbformat": 4,
 "nbformat_minor": 5
}
